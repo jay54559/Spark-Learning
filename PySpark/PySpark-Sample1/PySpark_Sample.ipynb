{
  "cells": [
    {
      "cell_type": "markdown",
      "metadata": {
        "id": "ph9-ZpK0jHs8"
      },
      "source": []
    },
    {
      "attachments": {},
      "cell_type": "markdown",
      "metadata": {
        "id": "apAqeZidZ8_g"
      },
      "source": [
        "# Machine Learning With Spark ML\n",
        "In this notebook, the following steps have been followed:\n",
        "1. Get the data.\n",
        "2. Discover the data to gain insights.\n",
        "3. Prepare the data for Machine Learning algorithms.\n",
        "4. Select a model and train it.\n",
        "5. Fine-tune the model.\n",
        "6. Present the solution.\n",
        "\n",
        "As a dataset, we use the California Housing Prices dataset from the StatLib repository. This dataset was based on data from the 1990 California census. The dataset has the following columns\n",
        "1. `longitude`: a measure of how far west a house is (a higher value is farther west)\n",
        "2. `latitude`: a measure of how far north a house is (a higher value is farther north)\n",
        "3. `housing_,median_age`: median age of a house within a block (a lower number is a newer building)\n",
        "4. `total_rooms`: total number of rooms within a block\n",
        "5. `total_bedrooms`: total number of bedrooms within a block\n",
        "6. `population`: total number of people residing within a block\n",
        "7. `households`: total number of households, a group of people residing within a home unit, for a block\n",
        "8. `median_income`: median income for households within a block of houses\n",
        "9. `median_house_value`: median house value for households within a block\n",
        "10. `ocean_proximity`: location of the house w.r.t ocean/sea\n",
        "\n",
        "---\n",
        "# 1. Get the data\n",
        "Let's start the lab by loading the dataset. The can find the dataset at `data/housing.csv`. To infer column types automatically, when you are reading the file, you need to set `inferSchema` to true. Moreover enable the `header` option to read the columns' name from the file."
      ]
    },
    {
      "cell_type": "code",
      "execution_count": 1,
      "metadata": {
        "colab": {
          "base_uri": "https://localhost:8080/"
        },
        "id": "iqjsxL2vjITO",
        "outputId": "1fc0daf3-c4e2-4c78-fc1b-e2e919e2a736"
      },
      "outputs": [
        {
          "name": "stdout",
          "output_type": "stream",
          "text": [
            "Looking in indexes: https://pypi.org/simple, https://us-python.pkg.dev/colab-wheels/public/simple/\n",
            "Collecting pyspark\n",
            "  Downloading pyspark-3.3.0.tar.gz (281.3 MB)\n",
            "\u001b[K     |████████████████████████████████| 281.3 MB 46 kB/s \n",
            "\u001b[?25hCollecting py4j==0.10.9.5\n",
            "  Downloading py4j-0.10.9.5-py2.py3-none-any.whl (199 kB)\n",
            "\u001b[K     |████████████████████████████████| 199 kB 60.4 MB/s \n",
            "\u001b[?25hBuilding wheels for collected packages: pyspark\n",
            "  Building wheel for pyspark (setup.py) ... \u001b[?25l\u001b[?25hdone\n",
            "  Created wheel for pyspark: filename=pyspark-3.3.0-py2.py3-none-any.whl size=281764026 sha256=48937851d74228ef2dcc37b9b40b40f1aa17bd1b673869de39d615f15bf7f30f\n",
            "  Stored in directory: /root/.cache/pip/wheels/7a/8e/1b/f73a52650d2e5f337708d9f6a1750d451a7349a867f928b885\n",
            "Successfully built pyspark\n",
            "Installing collected packages: py4j, pyspark\n",
            "Successfully installed py4j-0.10.9.5 pyspark-3.3.0\n"
          ]
        }
      ],
      "source": [
        "## Installing PySpark\n",
        "!pip install pyspark"
      ]
    },
    {
      "cell_type": "code",
      "execution_count": 2,
      "metadata": {
        "colab": {
          "base_uri": "https://localhost:8080/",
          "height": 219
        },
        "id": "a32nh8GcjRmN",
        "outputId": "6273abdd-9b83-4bc1-d4ae-e8722f083223"
      },
      "outputs": [
        {
          "data": {
            "text/html": [
              "\n",
              "            <div>\n",
              "                <p><b>SparkSession - in-memory</b></p>\n",
              "                \n",
              "        <div>\n",
              "            <p><b>SparkContext</b></p>\n",
              "\n",
              "            <p><a href=\"http://f3c5e9d6696c:4040\">Spark UI</a></p>\n",
              "\n",
              "            <dl>\n",
              "              <dt>Version</dt>\n",
              "                <dd><code>v3.3.0</code></dd>\n",
              "              <dt>Master</dt>\n",
              "                <dd><code>local[*]</code></dd>\n",
              "              <dt>AppName</dt>\n",
              "                <dd><code>Lab1</code></dd>\n",
              "            </dl>\n",
              "        </div>\n",
              "        \n",
              "            </div>\n",
              "        "
            ],
            "text/plain": [
              "<pyspark.sql.session.SparkSession at 0x7f840c78d2d0>"
            ]
          },
          "execution_count": 2,
          "metadata": {},
          "output_type": "execute_result"
        }
      ],
      "source": [
        "## Starting a Spark Session and Naming it\n",
        "from pyspark.sql import SparkSession\n",
        "spark = SparkSession.builder.appName('Lab1').getOrCreate()\n",
        "spark"
      ]
    },
    {
      "cell_type": "code",
      "execution_count": 3,
      "metadata": {
        "id": "LRSODYWGjkbF"
      },
      "outputs": [],
      "source": [
        "## Reading the Data. Make sure the files are uploaded in the session [on the left under the folder icon]\n",
        "housing = spark.read.csv('housing.csv', header = True, inferSchema = True)"
      ]
    },
    {
      "cell_type": "markdown",
      "metadata": {
        "id": "2RgvIXWwZ8_o"
      },
      "source": [
        "---\n",
        "# 2. Discover the data to gain insights\n",
        "Now it is time to take a look at the data. In this step we are going to take a look at the data a few different ways:\n",
        "* See the schema and dimension of the dataset\n",
        "* Look at the data itself\n",
        "* Statistical summary of the attributes\n",
        "* Breakdown of the data by the categorical attribute variable\n",
        "* Find the correlation among different attributes\n",
        "* Make new attributes by combining existing attributes"
      ]
    },
    {
      "cell_type": "markdown",
      "metadata": {
        "id": "P9U3-1xmZ8_o"
      },
      "source": [
        "## 2.1. Schema and dimension\n",
        "Print the schema of the dataset"
      ]
    },
    {
      "cell_type": "code",
      "execution_count": 4,
      "metadata": {
        "colab": {
          "base_uri": "https://localhost:8080/"
        },
        "id": "N_B3D32TkMed",
        "outputId": "b14d529b-3765-4146-8080-2d69a318173f"
      },
      "outputs": [
        {
          "name": "stdout",
          "output_type": "stream",
          "text": [
            "root\n",
            " |-- longitude: double (nullable = true)\n",
            " |-- latitude: double (nullable = true)\n",
            " |-- housing_median_age: double (nullable = true)\n",
            " |-- total_rooms: double (nullable = true)\n",
            " |-- total_bedrooms: double (nullable = true)\n",
            " |-- population: double (nullable = true)\n",
            " |-- households: double (nullable = true)\n",
            " |-- median_income: double (nullable = true)\n",
            " |-- median_house_value: double (nullable = true)\n",
            " |-- ocean_proximity: string (nullable = true)\n",
            "\n"
          ]
        }
      ],
      "source": [
        "## TODO: Printing the Schema\n",
        "housing.printSchema()"
      ]
    },
    {
      "cell_type": "markdown",
      "metadata": {
        "id": "7ZOU4Uf1Z8_p"
      },
      "source": [
        "Print the number of records in the dataset."
      ]
    },
    {
      "cell_type": "code",
      "execution_count": 5,
      "metadata": {
        "colab": {
          "base_uri": "https://localhost:8080/"
        },
        "id": "jbCrXKRzkX5q",
        "outputId": "3f3dcf20-7692-489c-8913-ea98715c5353"
      },
      "outputs": [
        {
          "data": {
            "text/plain": [
              "20640"
            ]
          },
          "execution_count": 5,
          "metadata": {},
          "output_type": "execute_result"
        }
      ],
      "source": [
        "## TODO: Printing the number of records in the dataset\n",
        "housing.count()"
      ]
    },
    {
      "cell_type": "markdown",
      "metadata": {
        "id": "mFiSuFY7Z8_q"
      },
      "source": [
        "## 2.2. Look at the data\n",
        "Print the first five records of the dataset."
      ]
    },
    {
      "cell_type": "code",
      "execution_count": 6,
      "metadata": {
        "colab": {
          "base_uri": "https://localhost:8080/"
        },
        "id": "7QUXwjFikkLr",
        "outputId": "35a975c1-8f26-4478-aeec-5e168673b967"
      },
      "outputs": [
        {
          "name": "stdout",
          "output_type": "stream",
          "text": [
            "+---------+--------+------------------+-----------+--------------+----------+----------+-------------+------------------+---------------+\n",
            "|longitude|latitude|housing_median_age|total_rooms|total_bedrooms|population|households|median_income|median_house_value|ocean_proximity|\n",
            "+---------+--------+------------------+-----------+--------------+----------+----------+-------------+------------------+---------------+\n",
            "|  -122.23|   37.88|              41.0|      880.0|         129.0|     322.0|     126.0|       8.3252|          452600.0|       NEAR BAY|\n",
            "|  -122.22|   37.86|              21.0|     7099.0|        1106.0|    2401.0|    1138.0|       8.3014|          358500.0|       NEAR BAY|\n",
            "|  -122.24|   37.85|              52.0|     1467.0|         190.0|     496.0|     177.0|       7.2574|          352100.0|       NEAR BAY|\n",
            "|  -122.25|   37.85|              52.0|     1274.0|         235.0|     558.0|     219.0|       5.6431|          341300.0|       NEAR BAY|\n",
            "|  -122.25|   37.85|              52.0|     1627.0|         280.0|     565.0|     259.0|       3.8462|          342200.0|       NEAR BAY|\n",
            "+---------+--------+------------------+-----------+--------------+----------+----------+-------------+------------------+---------------+\n",
            "only showing top 5 rows\n",
            "\n"
          ]
        }
      ],
      "source": [
        "## TODO: Printing the first five records \n",
        "housing.show(5)"
      ]
    },
    {
      "cell_type": "code",
      "execution_count": 7,
      "metadata": {
        "colab": {
          "base_uri": "https://localhost:8080/"
        },
        "id": "AujShdZLkpxE",
        "outputId": "db21708d-8a1f-4bc0-d256-a44c18bdaf9f"
      },
      "outputs": [
        {
          "data": {
            "text/plain": [
              "[Row(longitude=-122.23, latitude=37.88, housing_median_age=41.0, total_rooms=880.0, total_bedrooms=129.0, population=322.0, households=126.0, median_income=8.3252, median_house_value=452600.0, ocean_proximity='NEAR BAY'),\n",
              " Row(longitude=-122.22, latitude=37.86, housing_median_age=21.0, total_rooms=7099.0, total_bedrooms=1106.0, population=2401.0, households=1138.0, median_income=8.3014, median_house_value=358500.0, ocean_proximity='NEAR BAY'),\n",
              " Row(longitude=-122.24, latitude=37.85, housing_median_age=52.0, total_rooms=1467.0, total_bedrooms=190.0, population=496.0, households=177.0, median_income=7.2574, median_house_value=352100.0, ocean_proximity='NEAR BAY'),\n",
              " Row(longitude=-122.25, latitude=37.85, housing_median_age=52.0, total_rooms=1274.0, total_bedrooms=235.0, population=558.0, households=219.0, median_income=5.6431, median_house_value=341300.0, ocean_proximity='NEAR BAY'),\n",
              " Row(longitude=-122.25, latitude=37.85, housing_median_age=52.0, total_rooms=1627.0, total_bedrooms=280.0, population=565.0, households=259.0, median_income=3.8462, median_house_value=342200.0, ocean_proximity='NEAR BAY')]"
            ]
          },
          "execution_count": 7,
          "metadata": {},
          "output_type": "execute_result"
        }
      ],
      "source": [
        "## TODO: Printing the first five records \n",
        "housing.head(5)"
      ]
    },
    {
      "cell_type": "markdown",
      "metadata": {
        "id": "H9tAs4aHZ8_s"
      },
      "source": [
        "Print the number of records with population more than 10000."
      ]
    },
    {
      "cell_type": "code",
      "execution_count": 8,
      "metadata": {
        "colab": {
          "base_uri": "https://localhost:8080/"
        },
        "id": "aNAMRSSYlJcR",
        "outputId": "b6312bf4-55e2-4491-c229-591127ca81f8"
      },
      "outputs": [
        {
          "data": {
            "text/plain": [
              "23"
            ]
          },
          "execution_count": 8,
          "metadata": {},
          "output_type": "execute_result"
        }
      ],
      "source": [
        "## TODO: Printing number of records with population more than 10000\n",
        "housing.filter(housing['population']>10000).count()"
      ]
    },
    {
      "cell_type": "markdown",
      "metadata": {
        "id": "NU5HrvumZ8_s"
      },
      "source": [
        "## 2.3. Statistical summary\n",
        "Print a summary of the table statistics for the attributes `housing_median_age`, `total_rooms`, `median_house_value`, and `population`. You can use the `describe` command."
      ]
    },
    {
      "cell_type": "code",
      "execution_count": 9,
      "metadata": {
        "colab": {
          "base_uri": "https://localhost:8080/"
        },
        "id": "Khls5DdClriw",
        "outputId": "f826dc0b-562f-467a-f8f0-21637a102375"
      },
      "outputs": [
        {
          "name": "stdout",
          "output_type": "stream",
          "text": [
            "+-------+------------------+------------------+------------------+------------------+\n",
            "|summary|housing_median_age|       total_rooms|median_house_value|        population|\n",
            "+-------+------------------+------------------+------------------+------------------+\n",
            "|  count|             20640|             20640|             20640|             20640|\n",
            "|   mean|28.639486434108527|2635.7630813953488|206855.81690891474|1425.4767441860465|\n",
            "| stddev| 12.58555761211163|2181.6152515827944|115395.61587441359|  1132.46212176534|\n",
            "|    min|               1.0|               2.0|           14999.0|               3.0|\n",
            "|    max|              52.0|           39320.0|          500001.0|           35682.0|\n",
            "+-------+------------------+------------------+------------------+------------------+\n",
            "\n"
          ]
        }
      ],
      "source": [
        "## Statistical summary\n",
        "housing.select(['housing_median_age', 'total_rooms', 'median_house_value', 'population']).describe().show()"
      ]
    },
    {
      "cell_type": "markdown",
      "metadata": {
        "id": "AFNO9uVWZ8_t"
      },
      "source": [
        "Print the maximum age (`housing_median_age`), the minimum number of rooms (`total_rooms`), and the average of house values (`median_house_value`)."
      ]
    },
    {
      "cell_type": "code",
      "execution_count": 10,
      "metadata": {
        "colab": {
          "base_uri": "https://localhost:8080/"
        },
        "id": "xle-5_g4nVSd",
        "outputId": "defa5a4a-1f47-455e-d535-87cf4894f45f"
      },
      "outputs": [
        {
          "name": "stdout",
          "output_type": "stream",
          "text": [
            "+-----------------------+\n",
            "|max(housing_median_age)|\n",
            "+-----------------------+\n",
            "|                   52.0|\n",
            "+-----------------------+\n",
            "\n",
            "+----------------+\n",
            "|min(total_rooms)|\n",
            "+----------------+\n",
            "|             2.0|\n",
            "+----------------+\n",
            "\n",
            "+-----------------------+\n",
            "|avg(median_house_value)|\n",
            "+-----------------------+\n",
            "|     206855.81690891474|\n",
            "+-----------------------+\n",
            "\n"
          ]
        }
      ],
      "source": [
        "## TODO: \n",
        "#  1. Print the max age \n",
        "#  2. Print the minumum number of rooms\n",
        "#  3. Print the average of house values\n",
        "housing.agg({'housing_median_age':'max'}).show()\n",
        "housing.agg({'total_rooms':'min'}).show()\n",
        "housing.agg({'median_house_value':'mean'}).show()"
      ]
    },
    {
      "cell_type": "markdown",
      "metadata": {
        "id": "TKkfqwpUZ8_u"
      },
      "source": [
        "## 2.4. Breakdown the data by categorical data\n",
        "Print the number of houses in different areas (`ocean_proximity`), and sort them in descending order."
      ]
    },
    {
      "cell_type": "code",
      "execution_count": 11,
      "metadata": {
        "colab": {
          "base_uri": "https://localhost:8080/"
        },
        "id": "1IvpT13Zoj3W",
        "outputId": "d72cedc6-d429-479a-c20c-6ecf34dc9ecf"
      },
      "outputs": [
        {
          "name": "stdout",
          "output_type": "stream",
          "text": [
            "+---------------+-----+\n",
            "|ocean_proximity|count|\n",
            "+---------------+-----+\n",
            "|      <1H OCEAN| 9136|\n",
            "|         INLAND| 6551|\n",
            "|     NEAR OCEAN| 2658|\n",
            "|       NEAR BAY| 2290|\n",
            "|         ISLAND|    5|\n",
            "+---------------+-----+\n",
            "\n"
          ]
        }
      ],
      "source": [
        "## TODO: Print the number of houses in different areas and sort them in descending order\n",
        "housing.groupBy('ocean_proximity').count().sort('count', ascending = False).show()"
      ]
    },
    {
      "cell_type": "markdown",
      "metadata": {
        "id": "tER8ycbFZ8_w"
      },
      "source": [
        "Print the average value of the houses (`median_house_value`) in different areas (`ocean_proximity`), and call the new column `avg_value` when print it."
      ]
    },
    {
      "cell_type": "code",
      "execution_count": 12,
      "metadata": {
        "colab": {
          "base_uri": "https://localhost:8080/"
        },
        "id": "YnmhPfBHpdY-",
        "outputId": "2318289d-7471-4869-d3dd-36c22276241b"
      },
      "outputs": [
        {
          "name": "stdout",
          "output_type": "stream",
          "text": [
            "+---------------+------------------+\n",
            "|ocean_proximity|         avg_value|\n",
            "+---------------+------------------+\n",
            "|         ISLAND|          380440.0|\n",
            "|     NEAR OCEAN|249433.97742663656|\n",
            "|       NEAR BAY|259212.31179039303|\n",
            "|      <1H OCEAN|240084.28546409807|\n",
            "|         INLAND|124805.39200122119|\n",
            "+---------------+------------------+\n",
            "\n"
          ]
        }
      ],
      "source": [
        "## TODO: \n",
        "housing.groupBy('ocean_proximity').agg({'median_house_value':'mean'}).withColumnRenamed('avg(median_house_value)','avg_value').show()"
      ]
    },
    {
      "cell_type": "markdown",
      "metadata": {
        "id": "eUUcjYa2Z8_w"
      },
      "source": [
        "Rewrite the above question in SQL."
      ]
    },
    {
      "cell_type": "code",
      "execution_count": 13,
      "metadata": {
        "colab": {
          "base_uri": "https://localhost:8080/"
        },
        "id": "1QZ1db-gryKj",
        "outputId": "a029ee51-bea1-4ad3-a162-9bff4caf1070"
      },
      "outputs": [
        {
          "name": "stdout",
          "output_type": "stream",
          "text": [
            "+---------------+------------------+\n",
            "|ocean_proximity|         avg_value|\n",
            "+---------------+------------------+\n",
            "|         ISLAND|          380440.0|\n",
            "|     NEAR OCEAN|249433.97742663656|\n",
            "|       NEAR BAY|259212.31179039303|\n",
            "|      <1H OCEAN|240084.28546409807|\n",
            "|         INLAND|124805.39200122119|\n",
            "+---------------+------------------+\n",
            "\n"
          ]
        }
      ],
      "source": [
        "## Reqriting as SQL query\n",
        "housing.createOrReplaceTempView(\"df\")\n",
        "spark.sql(\"SELECT ocean_proximity, AVG(median_house_value) as avg_value FROM df GROUP BY ocean_proximity\").show()"
      ]
    },
    {
      "cell_type": "markdown",
      "metadata": {
        "id": "qIlUYFNBZ8_x"
      },
      "source": [
        "## 2.5. Correlation among attributes\n",
        "Print the correlation among the attributes `housing_median_age`, `total_rooms`, `median_house_value`, and `population`. To do so, first you need to put these attributes into one vector. Then, compute the standard correlation coefficient (Pearson) between every pair of attributes in this new vector. To make a vector of these attributes, you can use the `VectorAssembler` Transformer."
      ]
    },
    {
      "cell_type": "code",
      "execution_count": 14,
      "metadata": {
        "colab": {
          "base_uri": "https://localhost:8080/"
        },
        "id": "svo2-akFtcBl",
        "outputId": "677cc408-8808-4337-8352-32e30b1fe1d9"
      },
      "outputs": [
        {
          "name": "stdout",
          "output_type": "stream",
          "text": [
            "+---------+--------+------------------+-----------+--------------+----------+----------+-------------+------------------+---------------+--------------------+\n",
            "|longitude|latitude|housing_median_age|total_rooms|total_bedrooms|population|households|median_income|median_house_value|ocean_proximity| Combined Attributes|\n",
            "+---------+--------+------------------+-----------+--------------+----------+----------+-------------+------------------+---------------+--------------------+\n",
            "|  -122.23|   37.88|              41.0|      880.0|         129.0|     322.0|     126.0|       8.3252|          452600.0|       NEAR BAY|[41.0,880.0,45260...|\n",
            "|  -122.22|   37.86|              21.0|     7099.0|        1106.0|    2401.0|    1138.0|       8.3014|          358500.0|       NEAR BAY|[21.0,7099.0,3585...|\n",
            "|  -122.24|   37.85|              52.0|     1467.0|         190.0|     496.0|     177.0|       7.2574|          352100.0|       NEAR BAY|[52.0,1467.0,3521...|\n",
            "|  -122.25|   37.85|              52.0|     1274.0|         235.0|     558.0|     219.0|       5.6431|          341300.0|       NEAR BAY|[52.0,1274.0,3413...|\n",
            "|  -122.25|   37.85|              52.0|     1627.0|         280.0|     565.0|     259.0|       3.8462|          342200.0|       NEAR BAY|[52.0,1627.0,3422...|\n",
            "+---------+--------+------------------+-----------+--------------+----------+----------+-------------+------------------+---------------+--------------------+\n",
            "only showing top 5 rows\n",
            "\n"
          ]
        }
      ],
      "source": [
        "## TODO:\n",
        "from pyspark.ml.feature import VectorAssembler\n",
        "va = VectorAssembler(inputCols = [\"housing_median_age\", \"total_rooms\", \"median_house_value\", \"population\"], outputCol = \"Combined Attributes\")\n",
        "housingAttrs = va.transform(housing)\n",
        "housingAttrs.show(5)"
      ]
    },
    {
      "cell_type": "code",
      "execution_count": 15,
      "metadata": {
        "colab": {
          "base_uri": "https://localhost:8080/"
        },
        "id": "cVSFxm3IuPal",
        "outputId": "763df1e9-48b9-4440-b014-0331c38888ae"
      },
      "outputs": [
        {
          "name": "stdout",
          "output_type": "stream",
          "text": [
            "The standard correlation coefficient: \n",
            " DenseMatrix([[ 1.        , -0.3612622 ,  0.10562341, -0.29624424],\n",
            "             [-0.3612622 ,  1.        ,  0.13415311,  0.85712597],\n",
            "             [ 0.10562341,  0.13415311,  1.        , -0.02464968],\n",
            "             [-0.29624424,  0.85712597, -0.02464968,  1.        ]])\n"
          ]
        }
      ],
      "source": [
        "from pyspark.ml.linalg import DenseMatrix, Vectors\n",
        "from pyspark.ml.stat import Correlation\n",
        "\n",
        "pearsonCorr = Correlation.corr(housingAttrs, 'Combined Attributes', 'pearson').collect()[0][0]\n",
        "print(\"The standard correlation coefficient: \\n {}\".format(pearsonCorr))"
      ]
    },
    {
      "cell_type": "markdown",
      "metadata": {
        "id": "ul0JqnFuZ8_y"
      },
      "source": [
        "## 2.6. Combine and make new attributes\n",
        "Now, let's try out various attribute combinations. In the given dataset, the total number of rooms in a block is not very useful, if we don't know how many households there are. What we really want is the number of rooms per household. Similarly, the total number of bedrooms by itself is not very useful, and we want to compare it to the number of rooms. And the population per household seems like also an interesting attribute combination to look at. To do so, add the three new columns to the dataset as below. We will call the new dataset the `housingExtra`.\n",
        "```\n",
        "rooms_per_household = total_rooms / households\n",
        "bedrooms_per_room = total_bedrooms / total_rooms\n",
        "population_per_household = population / households\n",
        "```"
      ]
    },
    {
      "cell_type": "code",
      "execution_count": 16,
      "metadata": {
        "colab": {
          "base_uri": "https://localhost:8080/"
        },
        "id": "zOOsx3I3xRIl",
        "outputId": "db193027-f7ba-4dad-f961-1493f9640fd3"
      },
      "outputs": [
        {
          "name": "stdout",
          "output_type": "stream",
          "text": [
            "+-------------------+-------------------+------------------------+\n",
            "|rooms_per_household|  bedrooms_per_room|population_per_household|\n",
            "+-------------------+-------------------+------------------------+\n",
            "|  6.984126984126984|0.14659090909090908|      2.5555555555555554|\n",
            "|  6.238137082601054|0.15579659106916466|       2.109841827768014|\n",
            "|  8.288135593220339|0.12951601908657123|      2.8022598870056497|\n",
            "| 5.8173515981735155|0.18445839874411302|       2.547945205479452|\n",
            "|  6.281853281853282| 0.1720958819913952|      2.1814671814671813|\n",
            "+-------------------+-------------------+------------------------+\n",
            "only showing top 5 rows\n",
            "\n"
          ]
        }
      ],
      "source": [
        "## TODO:\n",
        "housingCol1 = housing.withColumn('rooms_per_household', housing['total_rooms']/housing['households'])\n",
        "housingCol2 = housingCol1.withColumn('bedrooms_per_room', housing['total_bedrooms']/housing['total_rooms'])\n",
        "housingExtra = housingCol2.withColumn('population_per_household', housing['population']/housing['households'])\n",
        "housingExtra.select(\"rooms_per_household\", \"bedrooms_per_room\", \"population_per_household\").show(5)"
      ]
    },
    {
      "cell_type": "markdown",
      "metadata": {
        "id": "2PjkMBMHZ8_y"
      },
      "source": [
        "---\n",
        "## 3. Prepare the data for Machine Learning algorithms\n",
        "Before going through the Machine Learning steps, let's first rename the label column from `median_house_value` to `label`."
      ]
    },
    {
      "cell_type": "code",
      "execution_count": 17,
      "metadata": {
        "id": "3OT8-nLVz18B"
      },
      "outputs": [],
      "source": [
        "## TODO\n",
        "renamedHousing = housingExtra.withColumnRenamed('median_house_value','label')"
      ]
    },
    {
      "cell_type": "markdown",
      "metadata": {
        "id": "ESLrgfYjZ8_y"
      },
      "source": [
        "Now, we want to separate the numerical attributes from the categorical attribute (`ocean_proximity`) and keep their column names in two different lists. Moreover, sice we don't want to apply the same transformations to the predictors (features) and the label, we should remove the label attribute from the list of predictors. "
      ]
    },
    {
      "cell_type": "code",
      "execution_count": 18,
      "metadata": {
        "id": "goBExotQ0FAI"
      },
      "outputs": [],
      "source": [
        "##\n",
        "colLabel = \"label\"\n",
        "\n",
        "colCat   = \"ocean_proximity\"\n",
        "colNum   = renamedHousing.drop(colLabel, colCat)"
      ]
    },
    {
      "cell_type": "markdown",
      "metadata": {
        "id": "vUD7qr0NZ8_z"
      },
      "source": [
        "## 3.1. Prepare continuous attributes\n",
        "### Data cleaning\n",
        "Most Machine Learning algorithms cannot work with missing features, so we should take care of them. As a first step, let's find the columns with missing values in the numerical attributes. To do so, we can print the number of missing values of each continues attributes, listed in `colNum`."
      ]
    },
    {
      "cell_type": "code",
      "execution_count": 19,
      "metadata": {
        "colab": {
          "base_uri": "https://localhost:8080/"
        },
        "id": "gzhNdEM_1p0H",
        "outputId": "4e7164eb-3982-40f4-ce0d-90515c93d8ad"
      },
      "outputs": [
        {
          "name": "stdout",
          "output_type": "stream",
          "text": [
            "+---------+--------+------------------+-----------+--------------+----------+----------+-------------+-----+---------------+-------------------+-----------------+------------------------+\n",
            "|longitude|latitude|housing_median_age|total_rooms|total_bedrooms|population|households|median_income|label|ocean_proximity|rooms_per_household|bedrooms_per_room|population_per_household|\n",
            "+---------+--------+------------------+-----------+--------------+----------+----------+-------------+-----+---------------+-------------------+-----------------+------------------------+\n",
            "|        0|       0|                 0|          0|           207|         0|         0|            0|    0|              0|                  0|              207|                       0|\n",
            "+---------+--------+------------------+-----------+--------------+----------+----------+-------------+-----+---------------+-------------------+-----------------+------------------------+\n",
            "\n"
          ]
        }
      ],
      "source": [
        "from pyspark.sql.functions import col,sum\n",
        "renamedHousing.select(*(sum(col(c).isNull().cast(\"int\")).alias(c) for c in renamedHousing.columns)).show()"
      ]
    },
    {
      "cell_type": "markdown",
      "metadata": {
        "id": "A1ifZsplZ8_z"
      },
      "source": [
        "As we observerd above, the `total_bedrooms` and `bedrooms_per_room` attributes have some missing values. One way to take care of missing values is to use the `Imputer` Transformer, which completes missing values in a dataset, either using the mean or the median of the columns in which the missing values are located. To use it, you need to create an `Imputer` instance, specifying that you want to replace each attribute's missing values with the \"median\" of that attribute."
      ]
    },
    {
      "cell_type": "code",
      "execution_count": 20,
      "metadata": {
        "colab": {
          "base_uri": "https://localhost:8080/"
        },
        "id": "Mu_GNNLm8Ph1",
        "outputId": "ae954683-daa9-4cdb-9525-463c193bcf84"
      },
      "outputs": [
        {
          "name": "stdout",
          "output_type": "stream",
          "text": [
            "+--------------+-------------------+\n",
            "|total_bedrooms|  bedrooms_per_room|\n",
            "+--------------+-------------------+\n",
            "|         129.0|0.14659090909090908|\n",
            "|        1106.0|0.15579659106916466|\n",
            "|         190.0|0.12951601908657123|\n",
            "|         235.0|0.18445839874411302|\n",
            "|         280.0| 0.1720958819913952|\n",
            "+--------------+-------------------+\n",
            "only showing top 5 rows\n",
            "\n"
          ]
        }
      ],
      "source": [
        "## Imputer\n",
        "from pyspark.ml.feature import Imputer\n",
        "\n",
        "imputer = Imputer(\n",
        "    inputCols=['total_bedrooms', 'bedrooms_per_room'], \n",
        "    outputCols=['total_bedrooms', 'bedrooms_per_room']\n",
        "    ).setStrategy(\"median\")\n",
        "imputedHousing = imputer.fit(renamedHousing).transform(renamedHousing)\n",
        "\n",
        "#imputedHousing.show(5)\n",
        "imputedHousing.select(\"total_bedrooms\", \"bedrooms_per_room\").show(5)"
      ]
    },
    {
      "cell_type": "markdown",
      "metadata": {
        "id": "AJ0BurrOZ8_z"
      },
      "source": [
        "### Scaling\n",
        "One of the most important transformations you need to apply to the data is feature scaling. With few exceptions, Machine Learning algorithms don't perform well when the input numerical attributes have very different scales. This is the case for the housing data: the total number of rooms ranges from about 6 to 39,320, while the median incomes only range from 0 to 15. Note that scaling the label attribues is generally not required.\n",
        "\n",
        "One way to get all attributes to have the same scale is to use standardization. In standardization, for each value, first it subtracts the mean value (so standardized values always have a zero mean), and then it divides by the variance so that the resulting distribution has unit variance. To do this, we can use the `StandardScaler` Estimator. To use `StandardScaler`, again we need to convert all the numerical attributes into a big vectore of features using `VectorAssembler`, and then call `StandardScaler` on that vactor."
      ]
    },
    {
      "cell_type": "code",
      "execution_count": 21,
      "metadata": {
        "colab": {
          "base_uri": "https://localhost:8080/"
        },
        "id": "5dzhny3tZ8_z",
        "outputId": "d07c44ec-0ded-4ab6-a40e-15845a15dc75"
      },
      "outputs": [
        {
          "name": "stdout",
          "output_type": "stream",
          "text": [
            "+---------+--------+------------------+-----------+--------------+----------+----------+-------------+--------+---------------+-------------------+-------------------+------------------------+--------------------+------------------------+\n",
            "|longitude|latitude|housing_median_age|total_rooms|total_bedrooms|population|households|median_income|   label|ocean_proximity|rooms_per_household|  bedrooms_per_room|population_per_household|   Combined Features|Combined Features Scaled|\n",
            "+---------+--------+------------------+-----------+--------------+----------+----------+-------------+--------+---------------+-------------------+-------------------+------------------------+--------------------+------------------------+\n",
            "|  -122.23|   37.88|              41.0|      880.0|         129.0|     322.0|     126.0|       8.3252|452600.0|       NEAR BAY|  6.984126984126984|0.14659090909090908|      2.5555555555555554|[-122.23,37.88,41...|    [-61.007269596069...|\n",
            "|  -122.22|   37.86|              21.0|     7099.0|        1106.0|    2401.0|    1138.0|       8.3014|358500.0|       NEAR BAY|  6.238137082601054|0.15579659106916466|       2.109841827768014|[-122.22,37.86,21...|    [-61.002278409814...|\n",
            "|  -122.24|   37.85|              52.0|     1467.0|         190.0|     496.0|     177.0|       7.2574|352100.0|       NEAR BAY|  8.288135593220339|0.12951601908657123|      2.8022598870056497|[-122.24,37.85,52...|    [-61.012260782324...|\n",
            "|  -122.25|   37.85|              52.0|     1274.0|         235.0|     558.0|     219.0|       5.6431|341300.0|       NEAR BAY| 5.8173515981735155|0.18445839874411302|       2.547945205479452|[-122.25,37.85,52...|    [-61.017251968579...|\n",
            "|  -122.25|   37.85|              52.0|     1627.0|         280.0|     565.0|     259.0|       3.8462|342200.0|       NEAR BAY|  6.281853281853282| 0.1720958819913952|      2.1814671814671813|[-122.25,37.85,52...|    [-61.017251968579...|\n",
            "+---------+--------+------------------+-----------+--------------+----------+----------+-------------+--------+---------------+-------------------+-------------------+------------------------+--------------------+------------------------+\n",
            "only showing top 5 rows\n",
            "\n"
          ]
        }
      ],
      "source": [
        "##\n",
        "from pyspark.ml.feature import StandardScaler\n",
        "\n",
        "va = VectorAssembler(inputCols=colNum.columns, outputCol='Combined Features')\n",
        "featuredHousing = va.transform(imputedHousing)\n",
        "\n",
        "scaler = StandardScaler(inputCol='Combined Features', outputCol='Combined Features Scaled')\n",
        "scaledHousing = scaler.fit(featuredHousing).transform(featuredHousing)\n",
        "\n",
        "scaledHousing.show(5)"
      ]
    },
    {
      "cell_type": "markdown",
      "metadata": {
        "id": "WMDszuzdZ8_0"
      },
      "source": [
        "## 3.2. Prepare categorical attributes\n",
        "After imputing and scaling the continuse attributes, we should take care of the categorical attributes. Let's first print the number of distict values of the categirical attribute `ocean_proximity`."
      ]
    },
    {
      "cell_type": "code",
      "execution_count": 22,
      "metadata": {
        "colab": {
          "base_uri": "https://localhost:8080/"
        },
        "id": "gWVT1Met_f6O",
        "outputId": "67b29dcf-a594-40f9-c4c3-bf542631b40b"
      },
      "outputs": [
        {
          "name": "stdout",
          "output_type": "stream",
          "text": [
            "+---------------+\n",
            "|ocean_proximity|\n",
            "+---------------+\n",
            "|         ISLAND|\n",
            "|     NEAR OCEAN|\n",
            "|       NEAR BAY|\n",
            "|      <1H OCEAN|\n",
            "|         INLAND|\n",
            "+---------------+\n",
            "\n"
          ]
        }
      ],
      "source": [
        "##\n",
        "renamedHousing.select('ocean_proximity').distinct().show()"
      ]
    },
    {
      "cell_type": "markdown",
      "metadata": {
        "id": "uCAC_eDGZ8_0"
      },
      "source": [
        "### String indexer\n",
        "Most Machine Learning algorithms prefer to work with numbers. So let's convert the categorical attribute `ocean_proximity` to numbers. To do so, we can use the `StringIndexer` that encodes a string column of labels to a column of label indices. The indices are in [0, numLabels), ordered by label frequencies, so the most frequent label gets index 0."
      ]
    },
    {
      "cell_type": "code",
      "execution_count": 23,
      "metadata": {
        "colab": {
          "base_uri": "https://localhost:8080/"
        },
        "id": "HnBq5zlzZ8_0",
        "outputId": "b5161320-f0a9-42dc-f7d7-4c866aef8fe4"
      },
      "outputs": [
        {
          "name": "stdout",
          "output_type": "stream",
          "text": [
            "+---------+--------+------------------+-----------+--------------+----------+----------+-------------+--------+---------------+-------------------+-------------------+------------------------+-----------------------+\n",
            "|longitude|latitude|housing_median_age|total_rooms|total_bedrooms|population|households|median_income|   label|ocean_proximity|rooms_per_household|  bedrooms_per_room|population_per_household|ocean_proximity_indexed|\n",
            "+---------+--------+------------------+-----------+--------------+----------+----------+-------------+--------+---------------+-------------------+-------------------+------------------------+-----------------------+\n",
            "|  -122.23|   37.88|              41.0|      880.0|         129.0|     322.0|     126.0|       8.3252|452600.0|       NEAR BAY|  6.984126984126984|0.14659090909090908|      2.5555555555555554|                    3.0|\n",
            "|  -122.22|   37.86|              21.0|     7099.0|        1106.0|    2401.0|    1138.0|       8.3014|358500.0|       NEAR BAY|  6.238137082601054|0.15579659106916466|       2.109841827768014|                    3.0|\n",
            "|  -122.24|   37.85|              52.0|     1467.0|         190.0|     496.0|     177.0|       7.2574|352100.0|       NEAR BAY|  8.288135593220339|0.12951601908657123|      2.8022598870056497|                    3.0|\n",
            "|  -122.25|   37.85|              52.0|     1274.0|         235.0|     558.0|     219.0|       5.6431|341300.0|       NEAR BAY| 5.8173515981735155|0.18445839874411302|       2.547945205479452|                    3.0|\n",
            "|  -122.25|   37.85|              52.0|     1627.0|         280.0|     565.0|     259.0|       3.8462|342200.0|       NEAR BAY|  6.281853281853282| 0.1720958819913952|      2.1814671814671813|                    3.0|\n",
            "+---------+--------+------------------+-----------+--------------+----------+----------+-------------+--------+---------------+-------------------+-------------------+------------------------+-----------------------+\n",
            "only showing top 5 rows\n",
            "\n"
          ]
        }
      ],
      "source": [
        "from pyspark.ml.feature import StringIndexer\n",
        "\n",
        "indexer = StringIndexer(inputCol = \"ocean_proximity\", outputCol = \"ocean_proximity_indexed\")\n",
        "idxHousing = indexer.fit(renamedHousing).transform(renamedHousing)\n",
        "idxHousing.show(5)"
      ]
    },
    {
      "cell_type": "markdown",
      "metadata": {
        "id": "YyNoVfvCZ8_0"
      },
      "source": [
        "Now we can use this numerical data in any Machine Learning algorithm. You can look at the mapping that this encoder has learned using the `labels` method: \"<1H OCEAN\" is mapped to 0, \"INLAND\" is mapped to 1, etc."
      ]
    },
    {
      "cell_type": "code",
      "execution_count": 24,
      "metadata": {
        "colab": {
          "base_uri": "https://localhost:8080/"
        },
        "id": "fZ4q6_1cZ8_0",
        "outputId": "0bc93811-31a4-4027-fb18-589b3ecf7db3"
      },
      "outputs": [
        {
          "data": {
            "text/plain": [
              "['<1H OCEAN', 'INLAND', 'NEAR OCEAN', 'NEAR BAY', 'ISLAND']"
            ]
          },
          "execution_count": 24,
          "metadata": {},
          "output_type": "execute_result"
        }
      ],
      "source": [
        "indexer.fit(renamedHousing).labels"
      ]
    },
    {
      "cell_type": "markdown",
      "metadata": {
        "id": "2szZvqyLZ8_1"
      },
      "source": [
        "### One-hot encoding\n",
        "Now, convert the label indices built in the last step into one-hot vectors. To do this, you can take advantage of the `OneHotEncoderEstimator` Estimator."
      ]
    },
    {
      "cell_type": "code",
      "execution_count": 25,
      "metadata": {
        "colab": {
          "base_uri": "https://localhost:8080/"
        },
        "id": "266hjkZLLzhJ",
        "outputId": "26bbccaf-7256-43d9-9fab-dc182b289a58"
      },
      "outputs": [
        {
          "name": "stdout",
          "output_type": "stream",
          "text": [
            "+---------+--------+------------------+-----------+--------------+----------+----------+-------------+--------+---------------+-------------------+-------------------+------------------------+-----------------------+-----------------------+\n",
            "|longitude|latitude|housing_median_age|total_rooms|total_bedrooms|population|households|median_income|   label|ocean_proximity|rooms_per_household|  bedrooms_per_room|population_per_household|ocean_proximity_indexed|ocean_proximity_encoded|\n",
            "+---------+--------+------------------+-----------+--------------+----------+----------+-------------+--------+---------------+-------------------+-------------------+------------------------+-----------------------+-----------------------+\n",
            "|  -122.23|   37.88|              41.0|      880.0|         129.0|     322.0|     126.0|       8.3252|452600.0|       NEAR BAY|  6.984126984126984|0.14659090909090908|      2.5555555555555554|                    3.0|          (4,[3],[1.0])|\n",
            "|  -122.22|   37.86|              21.0|     7099.0|        1106.0|    2401.0|    1138.0|       8.3014|358500.0|       NEAR BAY|  6.238137082601054|0.15579659106916466|       2.109841827768014|                    3.0|          (4,[3],[1.0])|\n",
            "|  -122.24|   37.85|              52.0|     1467.0|         190.0|     496.0|     177.0|       7.2574|352100.0|       NEAR BAY|  8.288135593220339|0.12951601908657123|      2.8022598870056497|                    3.0|          (4,[3],[1.0])|\n",
            "|  -122.25|   37.85|              52.0|     1274.0|         235.0|     558.0|     219.0|       5.6431|341300.0|       NEAR BAY| 5.8173515981735155|0.18445839874411302|       2.547945205479452|                    3.0|          (4,[3],[1.0])|\n",
            "|  -122.25|   37.85|              52.0|     1627.0|         280.0|     565.0|     259.0|       3.8462|342200.0|       NEAR BAY|  6.281853281853282| 0.1720958819913952|      2.1814671814671813|                    3.0|          (4,[3],[1.0])|\n",
            "+---------+--------+------------------+-----------+--------------+----------+----------+-------------+--------+---------------+-------------------+-------------------+------------------------+-----------------------+-----------------------+\n",
            "only showing top 5 rows\n",
            "\n"
          ]
        }
      ],
      "source": [
        "##\n",
        "\n",
        "from pyspark.ml.feature import OneHotEncoder\n",
        "\n",
        "encoder = OneHotEncoder(inputCol=\"ocean_proximity_indexed\", outputCol=\"ocean_proximity_encoded\")\n",
        "ohHousing = encoder.fit(idxHousing).transform(idxHousing)\n",
        "\n",
        "ohHousing.show(5)"
      ]
    },
    {
      "cell_type": "markdown",
      "metadata": {
        "id": "lNfM6-KyZ8_1"
      },
      "source": [
        "---\n",
        "# 4. Pipeline\n",
        "As you can see, there are many data transformation steps that need to be executed in the right order. For example, you called the `Imputer`, `VectorAssembler`, and `StandardScaler` from left to right. However, we can use the `Pipeline` class to define a sequence of Transformers/Estimators, and run them in order. A `Pipeline` is an `Estimator`, thus, after a Pipeline's `fit()` method runs, it produces a `PipelineModel`, which is a `Transformer`.\n",
        "\n",
        "Now, let's create a pipeline called `numPipeline` to call the numerical transformers you built above (`imputer`, `va`, and `scaler`) in the right order from left to right, as well as a pipeline called `catPipeline` to call the categorical transformers (`indexer` and `encoder`). Then, put these two pipelines `numPipeline` and `catPipeline` into one pipeline."
      ]
    },
    {
      "cell_type": "code",
      "execution_count": 26,
      "metadata": {
        "colab": {
          "base_uri": "https://localhost:8080/"
        },
        "id": "087GIeACNOY4",
        "outputId": "4f935597-f721-4bcd-abb6-8a2a5795c4b0"
      },
      "outputs": [
        {
          "name": "stdout",
          "output_type": "stream",
          "text": [
            "+---------+--------+------------------+-----------+--------------+----------+----------+-------------+--------+---------------+-------------------+-------------------+------------------------+--------------------+------------------------+-----------------------+-----------------------+\n",
            "|longitude|latitude|housing_median_age|total_rooms|total_bedrooms|population|households|median_income|   label|ocean_proximity|rooms_per_household|  bedrooms_per_room|population_per_household|   Combined Features|Combined Features Scaled|ocean_proximity_indexed|ocean_proximity_encoded|\n",
            "+---------+--------+------------------+-----------+--------------+----------+----------+-------------+--------+---------------+-------------------+-------------------+------------------------+--------------------+------------------------+-----------------------+-----------------------+\n",
            "|  -122.23|   37.88|              41.0|      880.0|         129.0|     322.0|     126.0|       8.3252|452600.0|       NEAR BAY|  6.984126984126984|0.14659090909090908|      2.5555555555555554|[-122.23,37.88,41...|    [-61.007269596069...|                    3.0|          (4,[3],[1.0])|\n",
            "|  -122.22|   37.86|              21.0|     7099.0|        1106.0|    2401.0|    1138.0|       8.3014|358500.0|       NEAR BAY|  6.238137082601054|0.15579659106916466|       2.109841827768014|[-122.22,37.86,21...|    [-61.002278409814...|                    3.0|          (4,[3],[1.0])|\n",
            "|  -122.24|   37.85|              52.0|     1467.0|         190.0|     496.0|     177.0|       7.2574|352100.0|       NEAR BAY|  8.288135593220339|0.12951601908657123|      2.8022598870056497|[-122.24,37.85,52...|    [-61.012260782324...|                    3.0|          (4,[3],[1.0])|\n",
            "|  -122.25|   37.85|              52.0|     1274.0|         235.0|     558.0|     219.0|       5.6431|341300.0|       NEAR BAY| 5.8173515981735155|0.18445839874411302|       2.547945205479452|[-122.25,37.85,52...|    [-61.017251968579...|                    3.0|          (4,[3],[1.0])|\n",
            "|  -122.25|   37.85|              52.0|     1627.0|         280.0|     565.0|     259.0|       3.8462|342200.0|       NEAR BAY|  6.281853281853282| 0.1720958819913952|      2.1814671814671813|[-122.25,37.85,52...|    [-61.017251968579...|                    3.0|          (4,[3],[1.0])|\n",
            "+---------+--------+------------------+-----------+--------------+----------+----------+-------------+--------+---------------+-------------------+-------------------+------------------------+--------------------+------------------------+-----------------------+-----------------------+\n",
            "only showing top 5 rows\n",
            "\n"
          ]
        }
      ],
      "source": [
        "##\n",
        "from pyspark.ml import Pipeline\n",
        "\n",
        "numPipeline = Pipeline(stages = [imputer, va, scaler])\n",
        "catPipeline = Pipeline(stages = [indexer, encoder])\n",
        "pipeline    = Pipeline(stages = [numPipeline, catPipeline])\n",
        "newHousing  = pipeline.fit(renamedHousing).transform(renamedHousing)\n",
        "\n",
        "newHousing.show(5)"
      ]
    },
    {
      "cell_type": "markdown",
      "metadata": {
        "id": "FMUJ80cDZ8_1"
      },
      "source": [
        "Now, use `VectorAssembler` to put all attributes of the final dataset `newHousing` into a big vector, and call the new column `features`."
      ]
    },
    {
      "cell_type": "code",
      "execution_count": 27,
      "metadata": {
        "colab": {
          "base_uri": "https://localhost:8080/"
        },
        "id": "67zvbFIbPgOk",
        "outputId": "b4bc88b4-245c-4a19-ff3a-8234b1d3a2ec"
      },
      "outputs": [
        {
          "name": "stdout",
          "output_type": "stream",
          "text": [
            "+---------+--------+------------------+-----------+--------------+----------+----------+-------------+--------+---------------+-------------------+-------------------+------------------------+--------------------+------------------------+-----------------------+-----------------------+--------------------+\n",
            "|longitude|latitude|housing_median_age|total_rooms|total_bedrooms|population|households|median_income|   label|ocean_proximity|rooms_per_household|  bedrooms_per_room|population_per_household|   Combined Features|Combined Features Scaled|ocean_proximity_indexed|ocean_proximity_encoded|            features|\n",
            "+---------+--------+------------------+-----------+--------------+----------+----------+-------------+--------+---------------+-------------------+-------------------+------------------------+--------------------+------------------------+-----------------------+-----------------------+--------------------+\n",
            "|  -122.23|   37.88|              41.0|      880.0|         129.0|     322.0|     126.0|       8.3252|452600.0|       NEAR BAY|  6.984126984126984|0.14659090909090908|      2.5555555555555554|[-122.23,37.88,41...|    [-61.007269596069...|                    3.0|          (4,[3],[1.0])|[-61.007269596069...|\n",
            "|  -122.22|   37.86|              21.0|     7099.0|        1106.0|    2401.0|    1138.0|       8.3014|358500.0|       NEAR BAY|  6.238137082601054|0.15579659106916466|       2.109841827768014|[-122.22,37.86,21...|    [-61.002278409814...|                    3.0|          (4,[3],[1.0])|[-61.002278409814...|\n",
            "|  -122.24|   37.85|              52.0|     1467.0|         190.0|     496.0|     177.0|       7.2574|352100.0|       NEAR BAY|  8.288135593220339|0.12951601908657123|      2.8022598870056497|[-122.24,37.85,52...|    [-61.012260782324...|                    3.0|          (4,[3],[1.0])|[-61.012260782324...|\n",
            "|  -122.25|   37.85|              52.0|     1274.0|         235.0|     558.0|     219.0|       5.6431|341300.0|       NEAR BAY| 5.8173515981735155|0.18445839874411302|       2.547945205479452|[-122.25,37.85,52...|    [-61.017251968579...|                    3.0|          (4,[3],[1.0])|[-61.017251968579...|\n",
            "|  -122.25|   37.85|              52.0|     1627.0|         280.0|     565.0|     259.0|       3.8462|342200.0|       NEAR BAY|  6.281853281853282| 0.1720958819913952|      2.1814671814671813|[-122.25,37.85,52...|    [-61.017251968579...|                    3.0|          (4,[3],[1.0])|[-61.017251968579...|\n",
            "+---------+--------+------------------+-----------+--------------+----------+----------+-------------+--------+---------------+-------------------+-------------------+------------------------+--------------------+------------------------+-----------------------+-----------------------+--------------------+\n",
            "only showing top 5 rows\n",
            "\n"
          ]
        }
      ],
      "source": [
        "va2 = VectorAssembler(inputCols=['Combined Features Scaled','ocean_proximity_encoded'], outputCol = 'features')\n",
        "dataset = va2.transform(newHousing)\n",
        "\n",
        "dataset.show(5)"
      ]
    },
    {
      "cell_type": "markdown",
      "metadata": {
        "id": "b4BdUUYnZ8_2"
      },
      "source": [
        "---\n",
        "# 5. Make a model\n",
        "Here we going to make four different regression models:\n",
        "* Linear regression model\n",
        "* Decision tree regression\n",
        "* Random forest regression\n",
        "* Gradient-booster forest regression\n",
        "\n",
        "But, before giving the data to train a Machine Learning model, let's first split the data into training dataset (`trainSet`) with 80% of the whole data, and test dataset (`testSet`) with 20% of it."
      ]
    },
    {
      "cell_type": "code",
      "execution_count": 28,
      "metadata": {
        "colab": {
          "base_uri": "https://localhost:8080/"
        },
        "id": "xedoKYAuQ11S",
        "outputId": "8b28d27e-527a-45b7-c726-56f2784336f6"
      },
      "outputs": [
        {
          "name": "stdout",
          "output_type": "stream",
          "text": [
            "+--------------------+--------+\n",
            "|            features|   label|\n",
            "+--------------------+--------+\n",
            "|[-61.007269596069...|452600.0|\n",
            "|[-61.002278409814...|358500.0|\n",
            "|[-61.012260782324...|352100.0|\n",
            "|[-61.017251968579...|341300.0|\n",
            "|[-61.017251968579...|342200.0|\n",
            "|[-61.017251968579...|269700.0|\n",
            "|[-61.017251968579...|299200.0|\n",
            "|[-61.017251968579...|241400.0|\n",
            "|[-61.022243154834...|226700.0|\n",
            "|[-61.017251968579...|261100.0|\n",
            "|[-61.022243154834...|281500.0|\n",
            "|[-61.022243154834...|241800.0|\n",
            "|[-61.022243154834...|213500.0|\n",
            "|[-61.022243154834...|191300.0|\n",
            "|[-61.022243154834...|159200.0|\n",
            "|[-61.022243154834...|140000.0|\n",
            "|[-61.027234341089...|152500.0|\n",
            "|[-61.027234341089...|155500.0|\n",
            "|[-61.022243154834...|158700.0|\n",
            "|[-61.027234341089...|162900.0|\n",
            "+--------------------+--------+\n",
            "only showing top 20 rows\n",
            "\n"
          ]
        }
      ],
      "source": [
        "## Extracting relevant data - features and label\n",
        "finalized_data = dataset.select('features','label')\n",
        "finalized_data.show()"
      ]
    },
    {
      "cell_type": "code",
      "execution_count": 29,
      "metadata": {
        "id": "p1LLsQESRZqB"
      },
      "outputs": [],
      "source": [
        "## Splitting the data 80-20\n",
        "trainSet,testSet=finalized_data.randomSplit([0.80,0.20])"
      ]
    },
    {
      "cell_type": "markdown",
      "metadata": {
        "id": "KGLlc01KZ8_2"
      },
      "source": [
        "## 5.1. Linear regression model\n",
        "Now, train a Linear Regression model using the `LinearRegression` class. Then, print the coefficients and intercept of the model, as well as the summary of the model over the training set by calling the `summary` method."
      ]
    },
    {
      "cell_type": "code",
      "execution_count": 30,
      "metadata": {
        "colab": {
          "base_uri": "https://localhost:8080/"
        },
        "id": "TA3AL-XQRy31",
        "outputId": "782e968e-2bc6-40b6-c8ef-37bc15919be7"
      },
      "outputs": [
        {
          "name": "stdout",
          "output_type": "stream",
          "text": [
            "Coefficients: [-55160.8073859172,-55227.11866477375,13426.95722668069,6849.135586238802,1356.9126309644705,-46997.60390299709,43983.75037091673,77549.51837766099,7022.110667914757,15852.495055309202,2633.3573870669543,-166823.2440543088,-202875.86694466273,-163888.21160193806,-171652.9394087955], Intercept: -2256895.030124878\n",
            "RMSE: 68246.80916245039\n"
          ]
        }
      ],
      "source": [
        "##\n",
        "from pyspark.ml.regression import LinearRegression\n",
        "from pyspark.ml.evaluation import RegressionEvaluator\n",
        "\n",
        "lr = LinearRegression(featuresCol = 'features', labelCol = 'label')\n",
        "lrModel = lr.fit(trainSet)\n",
        "trainingSummary = lrModel.summary\n",
        "print(\"Coefficients: {}, Intercept: {}\".format(lrModel.coefficients, lrModel.intercept))\n",
        "print(\"RMSE: {}\".format(trainingSummary.rootMeanSquaredError))"
      ]
    },
    {
      "cell_type": "markdown",
      "metadata": {
        "id": "cP4t4MWkZ8_3"
      },
      "source": [
        "Now, use `RegressionEvaluator` to measure the root-mean-square-erroe (RMSE) of the model on the test dataset."
      ]
    },
    {
      "cell_type": "code",
      "execution_count": 31,
      "metadata": {
        "colab": {
          "base_uri": "https://localhost:8080/"
        },
        "id": "H09mNlYRbsuB",
        "outputId": "7cdfe54d-0276-4955-e643-06e8ca2db97c"
      },
      "outputs": [
        {
          "name": "stdout",
          "output_type": "stream",
          "text": [
            "+------------------+-------+--------------------+\n",
            "|        prediction|  label|            features|\n",
            "+------------------+-------+--------------------+\n",
            "|184101.07485990692|76100.0|[-62.015489219599...|\n",
            "| 208541.4914438515|50800.0|[-62.005506847089...|\n",
            "|117274.93193060905|73200.0|[-62.005506847089...|\n",
            "|162023.19410721445|70200.0|[-61.980550915813...|\n",
            "| 134113.8653363865|70500.0|[-61.980550915813...|\n",
            "+------------------+-------+--------------------+\n",
            "only showing top 5 rows\n",
            "\n",
            "Root Mean Squared Error (RMSE) on test data: 66574.81092352736\n"
          ]
        }
      ],
      "source": [
        "##Prediction on test data\n",
        "pred_results = lrModel.transform(testSet)\n",
        "pred_results.select(\"prediction\", \"label\", \"features\").show(5)\n",
        "\n",
        "##RMSE of Test Set\n",
        "evaluator = RegressionEvaluator(labelCol=\"label\", predictionCol=\"prediction\", metricName=\"rmse\")\n",
        "rmse = evaluator.evaluate(pred_results)\n",
        "print(\"Root Mean Squared Error (RMSE) on test data: {}\".format(rmse))"
      ]
    },
    {
      "cell_type": "markdown",
      "metadata": {
        "id": "ZqwRJQIKZ8_3"
      },
      "source": [
        "## 5.2. Decision tree regression\n",
        "Repeat what you have done on Regression Model to build a Decision Tree model. Use the `DecisionTreeRegressor` to make a model and then measure its RMSE on the test dataset."
      ]
    },
    {
      "cell_type": "code",
      "execution_count": 32,
      "metadata": {
        "colab": {
          "base_uri": "https://localhost:8080/"
        },
        "id": "y9Hrkr9BYT8t",
        "outputId": "44273470-ae89-4fda-f044-09ed5fff528b"
      },
      "outputs": [
        {
          "name": "stdout",
          "output_type": "stream",
          "text": [
            "+------------------+-------+--------------------+\n",
            "|        prediction|  label|            features|\n",
            "+------------------+-------+--------------------+\n",
            "| 133129.1208791209|76100.0|[-62.015489219599...|\n",
            "|171965.91628959277|50800.0|[-62.005506847089...|\n",
            "|171965.91628959277|73200.0|[-62.005506847089...|\n",
            "|171965.91628959277|70200.0|[-61.980550915813...|\n",
            "| 133129.1208791209|70500.0|[-61.980550915813...|\n",
            "+------------------+-------+--------------------+\n",
            "only showing top 5 rows\n",
            "\n",
            "Root Mean Squared Error (RMSE) on test data: 67022.06531952161\n"
          ]
        }
      ],
      "source": [
        "from pyspark.ml.regression import DecisionTreeRegressor\n",
        "from pyspark.ml.evaluation import RegressionEvaluator\n",
        "\n",
        "dt = DecisionTreeRegressor(featuresCol = 'features', labelCol = 'label')\n",
        "dtModel = dt.fit(trainSet)\n",
        "\n",
        "##Prediction on test data\n",
        "pred_results = dtModel.transform(testSet)\n",
        "pred_results.select(\"prediction\", \"label\", \"features\").show(5)\n",
        "\n",
        "##RMSE of Test Set\n",
        "evaluator = RegressionEvaluator(labelCol=\"label\", predictionCol=\"prediction\", metricName=\"rmse\")\n",
        "rmse = evaluator.evaluate(pred_results)\n",
        "print(\"Root Mean Squared Error (RMSE) on test data: {}\".format(rmse))"
      ]
    },
    {
      "cell_type": "markdown",
      "metadata": {
        "id": "5Y3E7b25Z8_3"
      },
      "source": [
        "## 5.3. Random forest regression\n",
        "Let's try the test error on a Random Forest Model. Youcan use the `RandomForestRegressor` to make a Random Forest model."
      ]
    },
    {
      "cell_type": "code",
      "execution_count": 33,
      "metadata": {
        "colab": {
          "base_uri": "https://localhost:8080/"
        },
        "id": "0k_VXyjyb_0u",
        "outputId": "bf84a3d6-46ca-4c2b-80fb-9f60f1a0dde9"
      },
      "outputs": [
        {
          "name": "stdout",
          "output_type": "stream",
          "text": [
            "+------------------+-------+--------------------+\n",
            "|        prediction|  label|            features|\n",
            "+------------------+-------+--------------------+\n",
            "| 198352.7991661064|76100.0|[-62.015489219599...|\n",
            "|243204.96480685295|50800.0|[-62.005506847089...|\n",
            "|193557.55995581218|73200.0|[-62.005506847089...|\n",
            "|163360.21622017297|70200.0|[-61.980550915813...|\n",
            "|155372.63181582183|70500.0|[-61.980550915813...|\n",
            "+------------------+-------+--------------------+\n",
            "only showing top 5 rows\n",
            "\n",
            "Root Mean Squared Error (RMSE) on test data: 64110.32162233181\n"
          ]
        }
      ],
      "source": [
        "from pyspark.ml.regression import RandomForestRegressor\n",
        "from pyspark.ml.evaluation import RegressionEvaluator\n",
        "\n",
        "rf = RandomForestRegressor(featuresCol = 'features', labelCol = 'label')\n",
        "rfModel = rf.fit(trainSet)\n",
        "\n",
        "##Prediction on test data\n",
        "pred_results = rfModel.transform(testSet)\n",
        "pred_results.select(\"prediction\", \"label\", \"features\").show(5)\n",
        "\n",
        "##RMSE of Test Set\n",
        "evaluator = RegressionEvaluator(labelCol=\"label\", predictionCol=\"prediction\", metricName=\"rmse\")\n",
        "rmse = evaluator.evaluate(pred_results)\n",
        "print(\"Root Mean Squared Error (RMSE) on test data: {}\".format(rmse))"
      ]
    },
    {
      "cell_type": "markdown",
      "metadata": {
        "id": "fTm0MESEZ8_4"
      },
      "source": [
        "## 5.4. Gradient-boosted tree regression\n",
        "Fianlly, we want to build a Gradient-boosted Tree Regression model and test the RMSE of the test data. Use the `GBTRegressor` to build the model."
      ]
    },
    {
      "cell_type": "code",
      "execution_count": 34,
      "metadata": {
        "colab": {
          "base_uri": "https://localhost:8080/"
        },
        "id": "fpVj2cnOdyfX",
        "outputId": "6f3cc695-75ff-48fd-a9c6-ce80aa485183"
      },
      "outputs": [
        {
          "name": "stdout",
          "output_type": "stream",
          "text": [
            "+------------------+-------+--------------------+\n",
            "|        prediction|  label|            features|\n",
            "+------------------+-------+--------------------+\n",
            "|  82556.4076570584|76100.0|[-62.015489219599...|\n",
            "|131542.35526089705|50800.0|[-62.005506847089...|\n",
            "|115416.61283072784|73200.0|[-62.005506847089...|\n",
            "| 97986.01627620768|70200.0|[-61.980550915813...|\n",
            "| 92073.96956621467|70500.0|[-61.980550915813...|\n",
            "+------------------+-------+--------------------+\n",
            "only showing top 5 rows\n",
            "\n",
            "Root Mean Squared Error (RMSE) on test data: 54310.89025697337\n"
          ]
        }
      ],
      "source": [
        "from pyspark.ml.regression import GBTRegressor\n",
        "from pyspark.ml.evaluation import RegressionEvaluator\n",
        "\n",
        "gb = GBTRegressor(featuresCol = 'features', labelCol = 'label')\n",
        "gbModel = gb.fit(trainSet)\n",
        "\n",
        "##Prediction on test data\n",
        "pred_results = gbModel.transform(testSet)\n",
        "pred_results.select(\"prediction\", \"label\", \"features\").show(5)\n",
        "\n",
        "##RMSE of Test Set\n",
        "evaluator = RegressionEvaluator(labelCol=\"label\", predictionCol=\"prediction\", metricName=\"rmse\")\n",
        "rmse = evaluator.evaluate(pred_results)\n",
        "print(\"Root Mean Squared Error (RMSE) on test data: {}\".format(rmse))"
      ]
    },
    {
      "cell_type": "markdown",
      "metadata": {
        "id": "32rbzuFqZ8_4"
      },
      "source": [
        "---\n",
        "# 6. Hyperparameter tuning\n",
        "An important task in Machie Learning is model selection, or using data to find the best model or parameters for a given task. This is also called tuning. Tuning may be done for individual Estimators such as LinearRegression, or for entire Pipelines which include multiple algorithms, featurization, and other steps. Users can tune an entire Pipeline at once, rather than tuning each element in the Pipeline separately. MLlib supports model selection tools, such as `CrossValidator`. These tools require the following items:\n",
        "* Estimator: algorithm or Pipeline to tune (`setEstimator`)\n",
        "* Set of ParamMaps: parameters to choose from, sometimes called a \"parameter grid\" to search over (`setEstimatorParamMaps`)\n",
        "* Evaluator: metric to measure how well a fitted Model does on held-out test data (`setEvaluator`)\n",
        "\n",
        "`CrossValidator` begins by splitting the dataset into a set of folds, which are used as separate training and test datasets. For example with `k=3` folds, `CrossValidator` will generate 3 (training, test) dataset pairs, each of which uses 2/3 of the data for training and 1/3 for testing. To evaluate a particular `ParamMap`, `CrossValidator` computes the average evaluation metric for the 3 Models produced by fitting the Estimator on the 3 different (training, test) dataset pairs. After identifying the best `ParamMap`, `CrossValidator` finally re-fits the Estimator using the best ParamMap and the entire dataset.\n",
        "\n",
        "Below, use the `CrossValidator` to select the best Random Forest model. To do so, you need to define a grid of parameters. Let's say we want to do the search among the different number of trees (1, 5, and 10), and different tree depth (5, 10, and 15)."
      ]
    },
    {
      "cell_type": "code",
      "execution_count": 35,
      "metadata": {
        "id": "-cljDQnAezPE"
      },
      "outputs": [],
      "source": [
        "from pyspark.ml.tuning import ParamGridBuilder, CrossValidator\n",
        "pipeline = Pipeline(stages=[rf])\n",
        "paramGrid = ParamGridBuilder().baseOn({rf.labelCol: 'label', rf.predictionCol: 'prediction'}).addGrid(rf.numTrees,[1,5,10]).addGrid(rf.maxDepth,[5,10,15]).build()"
      ]
    },
    {
      "cell_type": "code",
      "execution_count": 36,
      "metadata": {
        "id": "gQqwhrmeiBHm"
      },
      "outputs": [],
      "source": [
        "evaluator = RegressionEvaluator(labelCol=\"label\", predictionCol=\"prediction\", metricName=\"rmse\")\n",
        "cv = CrossValidator(estimator=pipeline, estimatorParamMaps=paramGrid, evaluator=RegressionEvaluator())\n",
        "cvModel = cv.fit(trainSet) "
      ]
    },
    {
      "cell_type": "code",
      "execution_count": 37,
      "metadata": {
        "colab": {
          "base_uri": "https://localhost:8080/"
        },
        "id": "HciSWkcnjy4P",
        "outputId": "75250eb5-262d-4e8b-d697-c0daa010e31e"
      },
      "outputs": [
        {
          "name": "stdout",
          "output_type": "stream",
          "text": [
            "+------------------+-------+--------------------+\n",
            "|        prediction|  label|            features|\n",
            "+------------------+-------+--------------------+\n",
            "|124155.71428571428|76100.0|[-62.015489219599...|\n",
            "|145176.73913043478|50800.0|[-62.005506847089...|\n",
            "|          116925.0|73200.0|[-62.005506847089...|\n",
            "|           95218.4|70200.0|[-61.980550915813...|\n",
            "| 85806.52380952382|70500.0|[-61.980550915813...|\n",
            "+------------------+-------+--------------------+\n",
            "only showing top 5 rows\n",
            "\n",
            "Root Mean Squared Error (RMSE) on test data: 54310.89025697337\n"
          ]
        }
      ],
      "source": [
        "predictions = cvModel.transform(testSet)\n",
        "predictions.select(\"prediction\", \"label\", \"features\").show(5)\n",
        "\n",
        "rmse = evaluator.evaluate(pred_results)\n",
        "print(\"Root Mean Squared Error (RMSE) on test data: {}\".format(rmse))"
      ]
    }
  ],
  "metadata": {
    "colab": {
      "collapsed_sections": [],
      "name": "PySpark-Sample.ipynb",
      "provenance": []
    },
    "kernelspec": {
      "display_name": "Python 3",
      "language": "python",
      "name": "python3"
    },
    "language_info": {
      "name": "python",
      "version": "3.9.2 (default, Oct 25 2022, 14:41:26) \n[Clang 14.0.0 (clang-1400.0.29.102)]"
    },
    "vscode": {
      "interpreter": {
        "hash": "5aafb7e26574b565e6b928f2c4928808a0ea03fb5fc9bdaa0c8d4ef4bce8ee6b"
      }
    }
  },
  "nbformat": 4,
  "nbformat_minor": 0
}
